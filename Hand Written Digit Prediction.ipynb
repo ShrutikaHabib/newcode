{
  "cells": [
    {
      "cell_type": "code",
      "execution_count": null,
      "metadata": {
        "id": "OI0c5fC8mS5X"
      },
      "outputs": [],
      "source": [
        "import pandas as pd"
      ]
    },
    {
      "cell_type": "code",
      "execution_count": null,
      "metadata": {
        "id": "8f32NbIUmb2M"
      },
      "outputs": [],
      "source": [
        "import numpy as np"
      ]
    },
    {
      "cell_type": "code",
      "execution_count": null,
      "metadata": {
        "id": "fNvcnQlGmcEB"
      },
      "outputs": [],
      "source": [
        "import matplotlib.pyplot as plt"
      ]
    },
    {
      "cell_type": "code",
      "execution_count": null,
      "metadata": {
        "id": "6GystfTQmpHn"
      },
      "outputs": [],
      "source": [
        "from sklearn.datasets import load_digits"
      ]
    },
    {
      "cell_type": "code",
      "execution_count": null,
      "metadata": {
        "id": "w6c1HoXLmvx9"
      },
      "outputs": [],
      "source": [
        "df = load_digits()"
      ]
    },
    {
      "cell_type": "code",
      "execution_count": null,
      "metadata": {
        "colab": {
          "base_uri": "https://localhost:8080/",
          "height": 227
        },
        "id": "uKLwOEEBnds2",
        "outputId": "8e9f06be-e5f9-40bf-cbd5-88f1c58d6eed"
      },
      "outputs": [
        {
          "data": {
            "image/png": "[encoded data removed]",
            "text/plain": [
              "<Figure size 1000x300 with 4 Axes>"
            ]
          },
          "metadata": {},
          "output_type": "display_data"
        }
      ],
      "source": [
        "_,axes = plt.subplots(nrows=1,ncols=4,figsize=(10,3))\n",
        "for ax,image,label in zip(axes,df.images,df.target):\n",
        "    ax.set_axis_off()\n",
        "    ax.imshow(image,cmap=plt.cm.gray_r,interpolation=\"nearest\")\n",
        "    ax.set_title(\"Training: %i\" % label)"
      ]
    },
    {
      "cell_type": "code",
      "execution_count": null,
      "metadata": {
        "colab": {
          "base_uri": "https://localhost:8080/"
        },
        "id": "K4_ymYI-rjHX",
        "outputId": "8c1a232e-f7cc-4102-cd4b-d412439f00bd"
      },
      "outputs": [
        {
          "data": {
            "text/plain": [
              "(1797, 8, 8)"
            ]
          },
          "execution_count": 14,
          "metadata": {},
          "output_type": "execute_result"
        }
      ],
      "source": [
        "df.images.shape"
      ]
    },
    {
      "cell_type": "code",
      "execution_count": null,
      "metadata": {
        "colab": {
          "base_uri": "https://localhost:8080/"
        },
        "id": "LW_njS9lrnLp",
        "outputId": "f8bb8b45-9f5c-4347-b4ba-bcfdbca7d6f6"
      },
      "outputs": [
        {
          "data": {
            "text/plain": [
              "array([[ 0.,  0.,  5., 13.,  9.,  1.,  0.,  0.],\n",
              "       [ 0.,  0., 13., 15., 10., 15.,  5.,  0.],\n",
              "       [ 0.,  3., 15.,  2.,  0., 11.,  8.,  0.],\n",
              "       [ 0.,  4., 12.,  0.,  0.,  8.,  8.,  0.],\n",
              "       [ 0.,  5.,  8.,  0.,  0.,  9.,  8.,  0.],\n",
              "       [ 0.,  4., 11.,  0.,  1., 12.,  7.,  0.],\n",
              "       [ 0.,  2., 14.,  5., 10., 12.,  0.,  0.],\n",
              "       [ 0.,  0.,  6., 13., 10.,  0.,  0.,  0.]])"
            ]
          },
          "execution_count": 15,
          "metadata": {},
          "output_type": "execute_result"
        }
      ],
      "source": [
        "df.images[0]"
      ]
    },
    {
      "cell_type": "code",
      "execution_count": null,
      "metadata": {
        "colab": {
          "base_uri": "https://localhost:8080/"
        },
        "id": "r4F4X7KarrFw",
        "outputId": "b6e049c2-1493-4e5e-dd7e-0f4ed376bcb1"
      },
      "outputs": [
        {
          "data": {
            "text/plain": [
              "(8, 8)"
            ]
          },
          "execution_count": 16,
          "metadata": {},
          "output_type": "execute_result"
        }
      ],
      "source": [
        "df.images[0].shape"
      ]
    },
    {
      "cell_type": "code",
      "execution_count": null,
      "metadata": {
        "colab": {
          "base_uri": "https://localhost:8080/"
        },
        "id": "pW0pundCr01M",
        "outputId": "84526508-a8f7-48ea-dcae-a0d79b473abe"
      },
      "outputs": [
        {
          "data": {
            "text/plain": [
              "1797"
            ]
          },
          "execution_count": 17,
          "metadata": {},
          "output_type": "execute_result"
        }
      ],
      "source": [
        "len(df.images)"
      ]
    },
    {
      "cell_type": "code",
      "execution_count": null,
      "metadata": {
        "id": "HZEmxOKvr0_Y"
      },
      "outputs": [],
      "source": [
        "n_samples=len(df.images)\n",
        "data=df.images.reshape((n_samples,-1))"
      ]
    },
    {
      "cell_type": "code",
      "execution_count": null,
      "metadata": {
        "colab": {
          "base_uri": "https://localhost:8080/"
        },
        "id": "qYsDjAs8r1LJ",
        "outputId": "629b3c41-1e0c-4ed7-b4e9-f7c2713bbefe"
      },
      "outputs": [
        {
          "data": {
            "text/plain": [
              "array([ 0.,  0.,  5., 13.,  9.,  1.,  0.,  0.,  0.,  0., 13., 15., 10.,\n",
              "       15.,  5.,  0.,  0.,  3., 15.,  2.,  0., 11.,  8.,  0.,  0.,  4.,\n",
              "       12.,  0.,  0.,  8.,  8.,  0.,  0.,  5.,  8.,  0.,  0.,  9.,  8.,\n",
              "        0.,  0.,  4., 11.,  0.,  1., 12.,  7.,  0.,  0.,  2., 14.,  5.,\n",
              "       10., 12.,  0.,  0.,  0.,  0.,  6., 13., 10.,  0.,  0.,  0.])"
            ]
          },
          "execution_count": 19,
          "metadata": {},
          "output_type": "execute_result"
        }
      ],
      "source": [
        "data[0]"
      ]
    },
    {
      "cell_type": "code",
      "execution_count": null,
      "metadata": {
        "colab": {
          "base_uri": "https://localhost:8080/"
        },
        "id": "wfZ88zJ4sQFz",
        "outputId": "20b51c1f-a1ab-4f6f-d852-9fd07026cc8a"
      },
      "outputs": [
        {
          "data": {
            "text/plain": [
              "(64,)"
            ]
          },
          "execution_count": 20,
          "metadata": {},
          "output_type": "execute_result"
        }
      ],
      "source": [
        "data[0].shape"
      ]
    },
    {
      "attachments": {},
      "cell_type": "markdown",
      "metadata": {
        "id": "fTt9qSlysY-D"
      },
      "source": [
        "scaling image data"
      ]
    },
    {
      "cell_type": "code",
      "execution_count": null,
      "metadata": {
        "colab": {
          "base_uri": "https://localhost:8080/"
        },
        "id": "9OG6VE6CsQM_",
        "outputId": "1b5b6949-107c-45cc-daac-79a56a3ca6f7"
      },
      "outputs": [
        {
          "data": {
            "text/plain": [
              "0.0"
            ]
          },
          "execution_count": 23,
          "metadata": {},
          "output_type": "execute_result"
        }
      ],
      "source": [
        "data.min()"
      ]
    },
    {
      "cell_type": "code",
      "execution_count": null,
      "metadata": {
        "colab": {
          "base_uri": "https://localhost:8080/"
        },
        "id": "aDnA_jlSshhm",
        "outputId": "eded4d47-6283-47a5-d956-51b9d9b22ddd"
      },
      "outputs": [
        {
          "data": {
            "text/plain": [
              "16.0"
            ]
          },
          "execution_count": 22,
          "metadata": {},
          "output_type": "execute_result"
        }
      ],
      "source": [
        "data.max()"
      ]
    },
    {
      "cell_type": "code",
      "execution_count": null,
      "metadata": {
        "id": "9HzHnu2HskU_"
      },
      "outputs": [],
      "source": [
        "data=data/16"
      ]
    },
    {
      "cell_type": "code",
      "execution_count": null,
      "metadata": {
        "colab": {
          "base_uri": "https://localhost:8080/"
        },
        "id": "ILycKSXftCuR",
        "outputId": "a936ad08-a102-43e6-db03-09538739d12a"
      },
      "outputs": [
        {
          "data": {
            "text/plain": [
              "1.0"
            ]
          },
          "execution_count": 25,
          "metadata": {},
          "output_type": "execute_result"
        }
      ],
      "source": [
        "data.max()"
      ]
    },
    {
      "cell_type": "code",
      "execution_count": null,
      "metadata": {
        "colab": {
          "base_uri": "https://localhost:8080/"
        },
        "id": "TjhF9PE_tC9_",
        "outputId": "3a8f5c9e-405f-43e4-8fa9-53589ae1eb55"
      },
      "outputs": [
        {
          "data": {
            "text/plain": [
              "0.0"
            ]
          },
          "execution_count": 26,
          "metadata": {},
          "output_type": "execute_result"
        }
      ],
      "source": [
        "data.min()"
      ]
    },
    {
      "cell_type": "code",
      "execution_count": null,
      "metadata": {
        "colab": {
          "base_uri": "https://localhost:8080/"
        },
        "id": "I5ABpb10tWWb",
        "outputId": "c763f51e-394e-4f89-dec2-033a63e6a056"
      },
      "outputs": [
        {
          "data": {
            "text/plain": [
              "array([0.    , 0.    , 0.3125, 0.8125, 0.5625, 0.0625, 0.    , 0.    ,\n",
              "       0.    , 0.    , 0.8125, 0.9375, 0.625 , 0.9375, 0.3125, 0.    ,\n",
              "       0.    , 0.1875, 0.9375, 0.125 , 0.    , 0.6875, 0.5   , 0.    ,\n",
              "       0.    , 0.25  , 0.75  , 0.    , 0.    , 0.5   , 0.5   , 0.    ,\n",
              "       0.    , 0.3125, 0.5   , 0.    , 0.    , 0.5625, 0.5   , 0.    ,\n",
              "       0.    , 0.25  , 0.6875, 0.    , 0.0625, 0.75  , 0.4375, 0.    ,\n",
              "       0.    , 0.125 , 0.875 , 0.3125, 0.625 , 0.75  , 0.    , 0.    ,\n",
              "       0.    , 0.    , 0.375 , 0.8125, 0.625 , 0.    , 0.    , 0.    ])"
            ]
          },
          "execution_count": 27,
          "metadata": {},
          "output_type": "execute_result"
        }
      ],
      "source": [
        "data[0]"
      ]
    },
    {
      "attachments": {},
      "cell_type": "markdown",
      "metadata": {
        "id": "9r7Rwa45t5oO"
      },
      "source": [
        "train test split data"
      ]
    },
    {
      "cell_type": "code",
      "execution_count": null,
      "metadata": {
        "id": "8uC8tal7t02n"
      },
      "outputs": [],
      "source": [
        "from sklearn.model_selection import train_test_split"
      ]
    },
    {
      "cell_type": "code",
      "execution_count": null,
      "metadata": {
        "id": "B2bnzTB-t10h"
      },
      "outputs": [],
      "source": [
        "X_train, X_test, y_train, y_test = train_test_split (data,df.target,test_size =0.3)"
      ]
    },
    {
      "cell_type": "code",
      "execution_count": null,
      "metadata": {
        "colab": {
          "base_uri": "https://localhost:8080/"
        },
        "id": "H1CLvn27yY4W",
        "outputId": "85f44d14-ba96-4833-a115-5bdb699641a4"
      },
      "outputs": [
        {
          "data": {
            "text/plain": [
              "((1257, 64), (540, 64), (1257,), (540,))"
            ]
          },
          "execution_count": 37,
          "metadata": {},
          "output_type": "execute_result"
        }
      ],
      "source": [
        "X_train.shape, X_test.shape,y_train.shape,y_test.shape"
      ]
    },
    {
      "attachments": {},
      "cell_type": "markdown",
      "metadata": {
        "id": "IoqfOo0tDjfD"
      },
      "source": [
        "Random Forest Model"
      ]
    },
    {
      "cell_type": "code",
      "execution_count": null,
      "metadata": {
        "id": "8NpShxjDy0KR"
      },
      "outputs": [],
      "source": [
        "from sklearn.ensemble import RandomForestClassifier"
      ]
    },
    {
      "cell_type": "code",
      "execution_count": null,
      "metadata": {
        "id": "27rimAlXvJUK"
      },
      "outputs": [],
      "source": [
        "rf = RandomForestClassifier()"
      ]
    },
    {
      "cell_type": "code",
      "execution_count": null,
      "metadata": {
        "id": "MVc_MqduEOzE"
      },
      "outputs": [],
      "source": [
        "rf.fit(X_train,y_train)\n",
        "RandomForestClassifier()\n"
      ]
    },
    {
      "attachments": {},
      "cell_type": "markdown",
      "metadata": {
        "id": "Dyr0sm0tErxB"
      },
      "source": [
        "Predict Test Data"
      ]
    },
    {
      "cell_type": "code",
      "execution_count": null,
      "metadata": {
        "id": "A3JXInCDEO_h"
      },
      "outputs": [],
      "source": [
        "y_pred = rf.predict(X_test)"
      ]
    },
    {
      "cell_type": "code",
      "execution_count": null,
      "metadata": {
        "colab": {
          "base_uri": "https://localhost:8080/"
        },
        "id": "FUkNZf_SFAgQ",
        "outputId": "8c8b0b13-1b03-4999-d14e-19e4c57a162e"
      },
      "outputs": [
        {
          "data": {
            "text/plain": [
              "array([5, 0, 9, 6, 3, 6, 0, 7, 5, 9, 8, 8, 0, 7, 7, 5, 5, 1, 7, 3, 4, 4,\n",
              "       1, 2, 6, 9, 6, 0, 0, 3, 1, 8, 3, 9, 3, 1, 8, 0, 1, 7, 4, 1, 3, 4,\n",
              "       1, 8, 2, 2, 8, 3, 7, 4, 0, 6, 5, 1, 6, 6, 8, 8, 1, 3, 4, 7, 4, 7,\n",
              "       2, 8, 2, 8, 0, 3, 0, 6, 3, 1, 3, 3, 2, 1, 1, 4, 6, 0, 8, 3, 3, 8,\n",
              "       2, 3, 5, 0, 0, 4, 3, 4, 8, 8, 5, 9, 0, 4, 4, 4, 0, 9, 4, 4, 3, 3,\n",
              "       3, 2, 4, 0, 2, 8, 4, 2, 1, 2, 5, 8, 6, 7, 5, 0, 7, 5, 8, 5, 9, 3,\n",
              "       1, 9, 6, 0, 3, 6, 0, 0, 1, 2, 7, 9, 3, 0, 6, 6, 2, 6, 9, 9, 4, 2,\n",
              "       9, 1, 1, 2, 9, 9, 3, 0, 6, 1, 8, 5, 3, 0, 7, 5, 7, 2, 1, 4, 4, 2,\n",
              "       2, 5, 7, 0, 9, 9, 2, 6, 1, 1, 6, 0, 1, 1, 9, 1, 7, 0, 8, 1, 4, 7,\n",
              "       5, 0, 6, 9, 7, 6, 2, 2, 0, 7, 5, 7, 4, 4, 7, 8, 2, 0, 5, 5, 1, 1,\n",
              "       0, 2, 7, 5, 5, 4, 7, 0, 2, 8, 2, 6, 8, 2, 7, 6, 0, 9, 6, 2, 8, 2,\n",
              "       7, 7, 5, 1, 8, 9, 6, 7, 5, 5, 8, 8, 6, 6, 6, 5, 2, 5, 4, 2, 1, 7,\n",
              "       9, 5, 8, 4, 4, 0, 7, 1, 0, 7, 4, 7, 9, 6, 0, 6, 1, 9, 9, 1, 9, 8,\n",
              "       0, 3, 3, 4, 7, 9, 3, 7, 8, 6, 7, 9, 6, 6, 8, 0, 3, 1, 8, 2, 2, 7,\n",
              "       0, 8, 1, 2, 9, 2, 2, 4, 5, 8, 5, 5, 7, 0, 5, 1, 3, 2, 9, 7, 3, 7,\n",
              "       3, 8, 9, 2, 6, 9, 3, 6, 0, 0, 7, 1, 9, 6, 4, 1, 1, 2, 5, 5, 7, 6,\n",
              "       5, 1, 2, 9, 2, 5, 0, 0, 2, 0, 5, 1, 0, 1, 7, 0, 4, 1, 9, 1, 7, 9,\n",
              "       0, 8, 1, 8, 0, 4, 1, 4, 2, 9, 5, 4, 3, 1, 8, 5, 7, 7, 5, 0, 3, 4,\n",
              "       4, 9, 0, 8, 9, 3, 5, 6, 9, 3, 3, 1, 4, 7, 2, 4, 7, 5, 5, 5, 7, 6,\n",
              "       9, 5, 1, 4, 6, 5, 6, 6, 1, 8, 1, 6, 1, 5, 4, 0, 0, 9, 1, 7, 1, 2,\n",
              "       2, 0, 7, 2, 4, 6, 3, 5, 1, 5, 5, 3, 6, 2, 1, 3, 4, 9, 6, 9, 7, 0,\n",
              "       8, 9, 0, 7, 3, 9, 7, 9, 4, 1, 6, 0, 6, 5, 6, 1, 2, 7, 2, 6, 6, 7,\n",
              "       3, 9, 5, 4, 3, 4, 0, 6, 4, 3, 4, 2, 3, 5, 3, 4, 9, 8, 2, 7, 2, 5,\n",
              "       0, 5, 4, 0, 1, 5, 5, 1, 1, 7, 6, 7, 2, 9, 8, 1, 0, 9, 7, 8, 7, 0,\n",
              "       0, 7, 9, 0, 4, 2, 1, 5, 3, 6, 9, 7])"
            ]
          },
          "execution_count": 43,
          "metadata": {},
          "output_type": "execute_result"
        }
      ],
      "source": [
        "y_pred"
      ]
    },
    {
      "cell_type": "code",
      "execution_count": null,
      "metadata": {
        "id": "7UdJPTmIFDl6"
      },
      "outputs": [],
      "source": [
        "from sklearn.metrics import confusion_matrix,classification_report"
      ]
    },
    {
      "cell_type": "code",
      "execution_count": null,
      "metadata": {
        "colab": {
          "base_uri": "https://localhost:8080/"
        },
        "id": "riA4avL-FZhV",
        "outputId": "f9ac56a8-2224-4203-f59c-840296394b3f"
      },
      "outputs": [
        {
          "data": {
            "text/plain": [
              "array([[62,  0,  0,  0,  0,  0,  0,  0,  0,  0],\n",
              "       [ 0, 60,  0,  0,  0,  0,  0,  0,  0,  0],\n",
              "       [ 0,  0, 54,  0,  0,  0,  0,  0,  0,  0],\n",
              "       [ 0,  0,  0, 46,  0,  1,  0,  2,  2,  0],\n",
              "       [ 0,  0,  0,  0, 49,  0,  0,  0,  0,  1],\n",
              "       [ 0,  0,  0,  0,  0, 53,  1,  0,  0,  0],\n",
              "       [ 0,  0,  0,  0,  1,  0, 52,  0,  0,  0],\n",
              "       [ 0,  0,  0,  0,  0,  0,  0, 57,  0,  1],\n",
              "       [ 0,  2,  0,  1,  1,  1,  0,  1, 41,  0],\n",
              "       [ 0,  0,  0,  0,  0,  1,  0,  0,  0, 50]])"
            ]
          },
          "execution_count": 45,
          "metadata": {},
          "output_type": "execute_result"
        }
      ],
      "source": [
        "confusion_matrix(y_test,y_pred)"
      ]
    },
    {
      "cell_type": "code",
      "execution_count": null,
      "metadata": {
        "colab": {
          "base_uri": "https://localhost:8080/"
        },
        "id": "wFbO4Y7NFmx2",
        "outputId": "07eb075e-a139-41de-ac45-9a5ebbd71313"
      },
      "outputs": [
        {
          "name": "stdout",
          "output_type": "stream",
          "text": [
            "              precision    recall  f1-score   support\n",
            "\n",
            "           0       1.00      1.00      1.00        62\n",
            "           1       0.97      1.00      0.98        60\n",
            "           2       1.00      1.00      1.00        54\n",
            "           3       0.98      0.90      0.94        51\n",
            "           4       0.96      0.98      0.97        50\n",
            "           5       0.95      0.98      0.96        54\n",
            "           6       0.98      0.98      0.98        53\n",
            "           7       0.95      0.98      0.97        58\n",
            "           8       0.95      0.87      0.91        47\n",
            "           9       0.96      0.98      0.97        51\n",
            "\n",
            "    accuracy                           0.97       540\n",
            "   macro avg       0.97      0.97      0.97       540\n",
            "weighted avg       0.97      0.97      0.97       540\n",
            "\n"
          ]
        }
      ],
      "source": [
        "print(classification_report(y_test,y_pred))"
      ]
    }
  ],
  "metadata": {
    "colab": {
      "provenance": []
    },
    "kernelspec": {
      "display_name": "Python 3",
      "name": "python3"
    },
    "language_info": {
      "name": "python"
    }
  },
  "nbformat": 4,
  "nbformat_minor": 0
}
